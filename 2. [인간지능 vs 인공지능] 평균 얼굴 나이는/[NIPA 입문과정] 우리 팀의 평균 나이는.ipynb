{
 "cells": [
  {
   "cell_type": "markdown",
   "metadata": {
    "id": "5EFi_gvSbwGM"
   },
   "source": [
    "# [NIPA 입문과정] 우리 팀의 평균 나이는?"
   ]
  },
  {
   "cell_type": "markdown",
   "metadata": {
    "id": "9i_yD1hzbwGV"
   },
   "source": [
    "## 네이버 오픈 API - https://developers.naver.com/docs/common/openapiguide/"
   ]
  },
  {
   "cell_type": "markdown",
   "metadata": {
    "id": "XKQIOCadbwGX"
   },
   "source": [
    "### 이미지캡차 예시 코드 - https://developers.naver.com/docs/utils/captcha/examples/#python"
   ]
  },
  {
   "cell_type": "code",
   "execution_count": 1,
   "metadata": {
    "colab": {
     "base_uri": "https://localhost:8080/",
     "height": 244
    },
    "executionInfo": {
     "elapsed": 1004,
     "status": "error",
     "timestamp": 1605321177572,
     "user": {
      "displayName": "Ethan Storm",
      "photoUrl": "https://lh3.googleusercontent.com/a-/AOh14GinAmxgZflsos-KNb3kzWI3OEgarMXWCdEPyycR2Q=s64",
      "userId": "05966844540592272305"
     },
     "user_tz": -540
    },
    "id": "8NpYb8RgbwGY",
    "outputId": "a30cd1f2-c3eb-43ac-9398-5569cea4a686"
   },
   "outputs": [
    {
     "name": "stdout",
     "output_type": "stream",
     "text": [
      "{\"info\":{\"size\":{\"width\":738,\"height\":674},\"faceCount\":1},\"faces\":[{\"roi\":{\"x\":262,\"y\":136,\"width\":226,\"height\":226},\"landmark\":{\"leftEye\":{\"x\":305,\"y\":183},\"rightEye\":{\"x\":383,\"y\":184},\"nose\":{\"x\":335,\"y\":253},\"leftMouth\":{\"x\":315,\"y\":301},\"rightMouth\":{\"x\":414,\"y\":279}},\"gender\":{\"value\":\"female\",\"confidence\":0.999957},\"age\":{\"value\":\"21~25\",\"confidence\":0.076827},\"emotion\":{\"value\":\"smile\",\"confidence\":0.932378},\"pose\":{\"value\":\"frontal_face\",\"confidence\":0.902892}}]}\n"
     ]
    }
   ],
   "source": [
    "import os\n",
    "import sys\n",
    "import requests\n",
    "\n",
    "# 등록된 client_id, client_secret 정보를 입력합니다.\n",
    "client_id = \"MPDVrMg7LijEyXthHcTq\"\n",
    "client_secret = \"bj1XcVAzcO\"\n",
    "\n",
    "# 얼굴 사진을 통한 나이 추정을 위해서는 아래 url을 사용합니다. (face: 얼굴 분석, celebrity: 닮은 유명인 찾기)\n",
    "url = \"https://openapi.naver.com/v1/vision/face\" \n",
    "#url = \"https://openapi.naver.com/v1/vision/celebrity\" \n",
    "\n",
    "# 분석할 이미지의 파일명을 입력합니다.\n",
    "files = {'image': open('suzy_26.png', 'rb')}\n",
    "\n",
    "# API 입력 설정\n",
    "headers = {'X-Naver-Client-Id': client_id, 'X-Naver-Client-Secret': client_secret }\n",
    "\n",
    "# API 사용\n",
    "response = requests.post(url,  files=files, headers=headers)\n",
    "rescode = response.status_code\n",
    "\n",
    "if(rescode==200):\n",
    "    # 결과물 출력\n",
    "    print (response.text)\n",
    "else:\n",
    "    print(\"Error Code:\" + rescode)"
   ]
  },
  {
   "cell_type": "code",
   "execution_count": 2,
   "metadata": {
    "id": "Hr9vnJ53bwGg",
    "outputId": "bff22704-2dbc-4a40-e9e5-4dc1370ca394"
   },
   "outputs": [
    {
     "data": {
      "text/plain": [
       "{'info': {'size': {'width': 738, 'height': 674}, 'faceCount': 1},\n",
       " 'faces': [{'roi': {'x': 262, 'y': 136, 'width': 226, 'height': 226},\n",
       "   'landmark': {'leftEye': {'x': 305, 'y': 183},\n",
       "    'rightEye': {'x': 383, 'y': 184},\n",
       "    'nose': {'x': 335, 'y': 253},\n",
       "    'leftMouth': {'x': 315, 'y': 301},\n",
       "    'rightMouth': {'x': 414, 'y': 279}},\n",
       "   'gender': {'value': 'female', 'confidence': 0.999957},\n",
       "   'age': {'value': '21~25', 'confidence': 0.076827},\n",
       "   'emotion': {'value': 'smile', 'confidence': 0.932378},\n",
       "   'pose': {'value': 'frontal_face', 'confidence': 0.902892}}]}"
      ]
     },
     "execution_count": 2,
     "metadata": {},
     "output_type": "execute_result"
    }
   ],
   "source": [
    "# json 형식을 사용하기 위하여 import 합니다.\n",
    "import json\n",
    "\n",
    "# loads 함수를 사용하여 json으로 변환합니다.\n",
    "result = json.loads(response.text)\n",
    "result"
   ]
  },
  {
   "cell_type": "code",
   "execution_count": 3,
   "metadata": {
    "id": "wcH-9bXHbwGj",
    "outputId": "ce84fd0a-6667-4382-ffa5-a23a51f5ad26"
   },
   "outputs": [
    {
     "data": {
      "text/plain": [
       "'21~25'"
      ]
     },
     "execution_count": 3,
     "metadata": {},
     "output_type": "execute_result"
    }
   ],
   "source": [
    "# 나이에 대한 데이터를 출력합니다.\n",
    "result['faces'][0]['age']['value']"
   ]
  },
  {
   "cell_type": "code",
   "execution_count": 4,
   "metadata": {
    "id": "jPV0XcBubwGn",
    "outputId": "db3275c5-57f4-4f79-e021-eade396bf869"
   },
   "outputs": [
    {
     "data": {
      "text/plain": [
       "21"
      ]
     },
     "execution_count": 4,
     "metadata": {},
     "output_type": "execute_result"
    }
   ],
   "source": [
    "# 최소 나이를 int형으로 출력합니다.\n",
    "int(result['faces'][0]['age']['value'].split('~')[0])"
   ]
  },
  {
   "cell_type": "code",
   "execution_count": 5,
   "metadata": {
    "id": "jKdiL1IfbwGq",
    "outputId": "fdcc893c-fdac-472d-e2c4-f05974c58c68"
   },
   "outputs": [
    {
     "data": {
      "text/plain": [
       "25"
      ]
     },
     "execution_count": 5,
     "metadata": {},
     "output_type": "execute_result"
    }
   ],
   "source": [
    "# 최대 나이를 int형으로 출력합니다.\n",
    "int(result['faces'][0]['age']['value'].split('~')[1])"
   ]
  }
 ],
 "metadata": {
  "colab": {
   "name": "[NIPA 입문과정] 우리 팀의 평균 나이는.ipynb",
   "provenance": [],
   "toc_visible": true
  },
  "kernelspec": {
   "display_name": "Python 3",
   "language": "python",
   "name": "python3"
  },
  "language_info": {
   "codemirror_mode": {
    "name": "ipython",
    "version": 3
   },
   "file_extension": ".py",
   "mimetype": "text/x-python",
   "name": "python",
   "nbconvert_exporter": "python",
   "pygments_lexer": "ipython3",
   "version": "3.8.3"
  },
  "toc": {
   "base_numbering": 1,
   "nav_menu": {},
   "number_sections": false,
   "sideBar": true,
   "skip_h1_title": false,
   "title_cell": "Table of Contents",
   "title_sidebar": "Contents",
   "toc_cell": false,
   "toc_position": {},
   "toc_section_display": true,
   "toc_window_display": true
  }
 },
 "nbformat": 4,
 "nbformat_minor": 1
}
